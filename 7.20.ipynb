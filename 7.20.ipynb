{
 "cells": [
  {
   "cell_type": "markdown",
   "metadata": {},
   "source": [
    "# 函数\n",
    "\n",
    "- 函数可以用来定义可重复代码，组织和简化\n",
    "- 一般来说一个函数在实际开发中为一个小功能\n",
    "- 一个类为一个大功能\n",
    "- 同样函数的长度不要超过一屏"
   ]
  },
  {
   "cell_type": "markdown",
   "metadata": {},
   "source": [
    "Python中的所有函数实际上都是有返回值(return None),\n",
    "\n",
    "如果你没有设置return,那么Python将不显示None.\n",
    "\n",
    "如果你设置return,那么将返回出return这个值."
   ]
  },
  {
   "cell_type": "code",
   "execution_count": 29,
   "metadata": {},
   "outputs": [],
   "source": [
    "def HJN():\n",
    "    print('Hello')\n",
    "    return 1000"
   ]
  },
  {
   "cell_type": "code",
   "execution_count": 30,
   "metadata": {},
   "outputs": [
    {
     "name": "stdout",
     "output_type": "stream",
     "text": [
      "Hello\n",
      "1000\n"
     ]
    }
   ],
   "source": [
    "b=HJN()\n",
    "print(b)"
   ]
  },
  {
   "cell_type": "code",
   "execution_count": 3,
   "metadata": {},
   "outputs": [
    {
     "data": {
      "text/plain": [
       "<function __main__.HJN()>"
      ]
     },
     "execution_count": 3,
     "metadata": {},
     "output_type": "execute_result"
    }
   ],
   "source": [
    "HJN"
   ]
  },
  {
   "cell_type": "code",
   "execution_count": 10,
   "metadata": {},
   "outputs": [],
   "source": [
    "def panduan(number):\n",
    "    if number % 2 == 0:\n",
    "        print('O')\n",
    "    else:\n",
    "        print('J')"
   ]
  },
  {
   "cell_type": "code",
   "execution_count": 13,
   "metadata": {},
   "outputs": [
    {
     "name": "stdout",
     "output_type": "stream",
     "text": [
      "J\n"
     ]
    }
   ],
   "source": [
    "panduan(number=1)"
   ]
  },
  {
   "cell_type": "code",
   "execution_count": 12,
   "metadata": {},
   "outputs": [
    {
     "name": "stdout",
     "output_type": "stream",
     "text": [
      "O\n"
     ]
    }
   ],
   "source": [
    "panduan(2)"
   ]
  },
  {
   "cell_type": "markdown",
   "metadata": {},
   "source": [
    "## 定义一个函数\n",
    "\n",
    "def function_name(list of parameters):\n",
    "    \n",
    "    do something\n",
    "![](../Photo/69.png)\n",
    "- 以前使用的random 或者range 或者print.. 其实都是函数或者类"
   ]
  },
  {
   "cell_type": "markdown",
   "metadata": {},
   "source": [
    "函数的参数如果有默认值的情况,当你调用该函数的时候:\n",
    "可以不给予参数值,那么就会走该参数的默认值\n",
    "否则的话,就走你给予的参数值."
   ]
  },
  {
   "cell_type": "code",
   "execution_count": 31,
   "metadata": {},
   "outputs": [],
   "source": [
    "import random"
   ]
  },
  {
   "cell_type": "code",
   "execution_count": null,
   "metadata": {},
   "outputs": [],
   "source": [
    "def hahah():\n",
    "    n = random.randint(0,5)\n",
    "    while 1:\n",
    "        N = eval(input('>>'))\n",
    "        if n == N:\n",
    "            print('smart')\n",
    "            break\n",
    "        elif n < N:\n",
    "            print('太小了')\n",
    "        elif n > N:\n",
    "            print('太大了')\n"
   ]
  },
  {
   "cell_type": "markdown",
   "metadata": {},
   "source": [
    "## 调用一个函数\n",
    "- functionName()\n",
    "- \"()\" 就代表调用"
   ]
  },
  {
   "cell_type": "code",
   "execution_count": 1,
   "metadata": {},
   "outputs": [],
   "source": [
    "def H():\n",
    "    print('hahaha')"
   ]
  },
  {
   "cell_type": "code",
   "execution_count": 2,
   "metadata": {},
   "outputs": [],
   "source": [
    "def B():\n",
    "    H()"
   ]
  },
  {
   "cell_type": "code",
   "execution_count": 3,
   "metadata": {
    "scrolled": true
   },
   "outputs": [
    {
     "name": "stdout",
     "output_type": "stream",
     "text": [
      "hahaha\n"
     ]
    }
   ],
   "source": [
    "B()"
   ]
  },
  {
   "cell_type": "code",
   "execution_count": 4,
   "metadata": {},
   "outputs": [],
   "source": [
    "def A(f):\n",
    "    f()"
   ]
  },
  {
   "cell_type": "code",
   "execution_count": 5,
   "metadata": {},
   "outputs": [
    {
     "name": "stdout",
     "output_type": "stream",
     "text": [
      "hahaha\n"
     ]
    }
   ],
   "source": [
    "A(B)"
   ]
  },
  {
   "cell_type": "markdown",
   "metadata": {},
   "source": [
    "![](../Photo/70.png)"
   ]
  },
  {
   "cell_type": "markdown",
   "metadata": {},
   "source": [
    "## 带返回值和不带返回值的函数\n",
    "- return 返回的内容\n",
    "- return 返回多个值\n",
    "- 一般情况下，在多个函数协同完成一个功能的时候，那么将会有返回值"
   ]
  },
  {
   "cell_type": "markdown",
   "metadata": {},
   "source": [
    "![](../Photo/71.png)\n",
    "\n",
    "- 当然也可以自定义返回None"
   ]
  },
  {
   "cell_type": "markdown",
   "metadata": {},
   "source": [
    "## EP：\n",
    "![](../Photo/72.png)"
   ]
  },
  {
   "cell_type": "code",
   "execution_count": 8,
   "metadata": {},
   "outputs": [],
   "source": [
    "def main():\n",
    "    print(min(min(5,6),(51,6)))\n",
    "def min(n1,n2):\n",
    "    a = n1\n",
    "    if n2 < a:\n",
    "        a = n2"
   ]
  },
  {
   "cell_type": "code",
   "execution_count": 9,
   "metadata": {},
   "outputs": [
    {
     "ename": "TypeError",
     "evalue": "'<' not supported between instances of 'tuple' and 'NoneType'",
     "output_type": "error",
     "traceback": [
      "\u001b[0;31m---------------------------------------------------------------------------\u001b[0m",
      "\u001b[0;31mTypeError\u001b[0m                                 Traceback (most recent call last)",
      "\u001b[0;32m<ipython-input-9-263240bbee7e>\u001b[0m in \u001b[0;36m<module>\u001b[0;34m\u001b[0m\n\u001b[0;32m----> 1\u001b[0;31m \u001b[0mmain\u001b[0m\u001b[0;34m(\u001b[0m\u001b[0;34m)\u001b[0m\u001b[0;34m\u001b[0m\u001b[0;34m\u001b[0m\u001b[0m\n\u001b[0m",
      "\u001b[0;32m<ipython-input-8-a7c84f32bfda>\u001b[0m in \u001b[0;36mmain\u001b[0;34m()\u001b[0m\n\u001b[1;32m      1\u001b[0m \u001b[0;32mdef\u001b[0m \u001b[0mmain\u001b[0m\u001b[0;34m(\u001b[0m\u001b[0;34m)\u001b[0m\u001b[0;34m:\u001b[0m\u001b[0;34m\u001b[0m\u001b[0;34m\u001b[0m\u001b[0m\n\u001b[0;32m----> 2\u001b[0;31m     \u001b[0mprint\u001b[0m\u001b[0;34m(\u001b[0m\u001b[0mmin\u001b[0m\u001b[0;34m(\u001b[0m\u001b[0mmin\u001b[0m\u001b[0;34m(\u001b[0m\u001b[0;36m5\u001b[0m\u001b[0;34m,\u001b[0m\u001b[0;36m6\u001b[0m\u001b[0;34m)\u001b[0m\u001b[0;34m,\u001b[0m\u001b[0;34m(\u001b[0m\u001b[0;36m51\u001b[0m\u001b[0;34m,\u001b[0m\u001b[0;36m6\u001b[0m\u001b[0;34m)\u001b[0m\u001b[0;34m)\u001b[0m\u001b[0;34m)\u001b[0m\u001b[0;34m\u001b[0m\u001b[0;34m\u001b[0m\u001b[0m\n\u001b[0m\u001b[1;32m      3\u001b[0m \u001b[0;32mdef\u001b[0m \u001b[0mmin\u001b[0m\u001b[0;34m(\u001b[0m\u001b[0mn1\u001b[0m\u001b[0;34m,\u001b[0m\u001b[0mn2\u001b[0m\u001b[0;34m)\u001b[0m\u001b[0;34m:\u001b[0m\u001b[0;34m\u001b[0m\u001b[0;34m\u001b[0m\u001b[0m\n\u001b[1;32m      4\u001b[0m     \u001b[0ma\u001b[0m \u001b[0;34m=\u001b[0m \u001b[0mn1\u001b[0m\u001b[0;34m\u001b[0m\u001b[0;34m\u001b[0m\u001b[0m\n\u001b[1;32m      5\u001b[0m     \u001b[0;32mif\u001b[0m \u001b[0mn2\u001b[0m \u001b[0;34m<\u001b[0m \u001b[0ma\u001b[0m\u001b[0;34m:\u001b[0m\u001b[0;34m\u001b[0m\u001b[0;34m\u001b[0m\u001b[0m\n",
      "\u001b[0;32m<ipython-input-8-a7c84f32bfda>\u001b[0m in \u001b[0;36mmin\u001b[0;34m(n1, n2)\u001b[0m\n\u001b[1;32m      3\u001b[0m \u001b[0;32mdef\u001b[0m \u001b[0mmin\u001b[0m\u001b[0;34m(\u001b[0m\u001b[0mn1\u001b[0m\u001b[0;34m,\u001b[0m\u001b[0mn2\u001b[0m\u001b[0;34m)\u001b[0m\u001b[0;34m:\u001b[0m\u001b[0;34m\u001b[0m\u001b[0;34m\u001b[0m\u001b[0m\n\u001b[1;32m      4\u001b[0m     \u001b[0ma\u001b[0m \u001b[0;34m=\u001b[0m \u001b[0mn1\u001b[0m\u001b[0;34m\u001b[0m\u001b[0;34m\u001b[0m\u001b[0m\n\u001b[0;32m----> 5\u001b[0;31m     \u001b[0;32mif\u001b[0m \u001b[0mn2\u001b[0m \u001b[0;34m<\u001b[0m \u001b[0ma\u001b[0m\u001b[0;34m:\u001b[0m\u001b[0;34m\u001b[0m\u001b[0;34m\u001b[0m\u001b[0m\n\u001b[0m\u001b[1;32m      6\u001b[0m         \u001b[0ma\u001b[0m \u001b[0;34m=\u001b[0m \u001b[0mn2\u001b[0m\u001b[0;34m\u001b[0m\u001b[0;34m\u001b[0m\u001b[0m\n",
      "\u001b[0;31mTypeError\u001b[0m: '<' not supported between instances of 'tuple' and 'NoneType'"
     ]
    }
   ],
   "source": [
    "main()"
   ]
  },
  {
   "cell_type": "markdown",
   "metadata": {},
   "source": [
    "## 类型和关键字参数\n",
    "- 普通参数\n",
    "- 多个参数\n",
    "- 默认值参数\n",
    "- 不定长参数"
   ]
  },
  {
   "cell_type": "markdown",
   "metadata": {},
   "source": [
    "## 普通参数"
   ]
  },
  {
   "cell_type": "markdown",
   "metadata": {},
   "source": [
    "## 多个参数"
   ]
  },
  {
   "cell_type": "markdown",
   "metadata": {},
   "source": [
    "## 默认值参数"
   ]
  },
  {
   "cell_type": "markdown",
   "metadata": {},
   "source": [
    "## 强制命名"
   ]
  },
  {
   "cell_type": "code",
   "execution_count": 60,
   "metadata": {},
   "outputs": [],
   "source": [
    "def U(str_):\n",
    "    xiaoxie = 0\n",
    "    for i in str_:\n",
    "        ASCII = ord(i)\n",
    "        if 97<=ASCII<=122:\n",
    "            xiaoxie +=1\n",
    "        elif xxxx:\n",
    "            daxie += 1\n",
    "        elif xxxx:\n",
    "            shuzi += 1\n",
    "    return xiaoxie,daxie,shuzi"
   ]
  },
  {
   "cell_type": "code",
   "execution_count": 61,
   "metadata": {},
   "outputs": [
    {
     "name": "stdout",
     "output_type": "stream",
     "text": [
      "H\n",
      "J\n",
      "i\n",
      "1\n",
      "2\n"
     ]
    }
   ],
   "source": [
    "U('HJi12')"
   ]
  },
  {
   "cell_type": "markdown",
   "metadata": {},
   "source": [
    "## 不定长参数\n",
    "- \\*args\n",
    "> - 不定长，来多少装多少，不装也是可以的\n",
    "  - 返回的数据类型是元组\n",
    "  - args 名字是可以修改的，只是我们约定俗成的是args\n",
    "- \\**kwargs \n",
    "> - 返回的字典\n",
    "  - 输入的一定要是表达式（键值对）\n",
    "- name,\\*args,name2,\\**kwargs  使用参数名"
   ]
  },
  {
   "cell_type": "code",
   "execution_count": null,
   "metadata": {},
   "outputs": [],
   "source": [
    "def TT(a,b)"
   ]
  },
  {
   "cell_type": "code",
   "execution_count": 51,
   "metadata": {},
   "outputs": [
    {
     "name": "stdout",
     "output_type": "stream",
     "text": [
      "{'a': 100, 'b': 1000}\n",
      "(1, 2, 3, 4, 6)\n"
     ]
    }
   ],
   "source": [
    "def TT(*args,**kwargs):\n",
    "    print(kwargs)\n",
    "    print(args)\n",
    "TT(1,2,3,4,6,a=100,b=1000)"
   ]
  },
  {
   "cell_type": "code",
   "execution_count": 13,
   "metadata": {},
   "outputs": [
    {
     "name": "stdout",
     "output_type": "stream",
     "text": [
      "()\n"
     ]
    }
   ],
   "source": [
    "{'key':'value'}"
   ]
  },
  {
   "cell_type": "code",
   "execution_count": 14,
   "metadata": {
    "scrolled": true
   },
   "outputs": [
    {
     "name": "stdout",
     "output_type": "stream",
     "text": [
      "(1, 2, 4, 5, 7, 8, 9)\n"
     ]
    }
   ],
   "source": [
    "TT(1,2,4,5,7,8,9,)"
   ]
  },
  {
   "cell_type": "code",
   "execution_count": 38,
   "metadata": {},
   "outputs": [],
   "source": [
    "def B(name1,nam3):\n",
    "    pass"
   ]
  },
  {
   "cell_type": "code",
   "execution_count": 39,
   "metadata": {},
   "outputs": [
    {
     "ename": "SyntaxError",
     "evalue": "positional argument follows keyword argument (<ipython-input-39-bd6a38e58465>, line 1)",
     "output_type": "error",
     "traceback": [
      "\u001b[0;36m  File \u001b[0;32m\"<ipython-input-39-bd6a38e58465>\"\u001b[0;36m, line \u001b[0;32m1\u001b[0m\n\u001b[0;31m    B(name1=100,2)\u001b[0m\n\u001b[0m               ^\u001b[0m\n\u001b[0;31mSyntaxError\u001b[0m\u001b[0;31m:\u001b[0m positional argument follows keyword argument\n"
     ]
    }
   ],
   "source": [
    "B(name1=100,2)"
   ]
  },
  {
   "cell_type": "code",
   "execution_count": 43,
   "metadata": {},
   "outputs": [],
   "source": [
    "def sum_(*args,A='sum'):\n",
    "    \n",
    "    res = 0\n",
    "    count = 0\n",
    "    for i in args:\n",
    "        res +=i\n",
    "        count += 1\n",
    "    if A == \"sum\":\n",
    "        return res\n",
    "    elif A == \"mean\":\n",
    "        mean = res / count\n",
    "        return res,mean\n",
    "    else:\n",
    "        print(A,'还未开放')\n",
    "    \n",
    "    "
   ]
  },
  {
   "cell_type": "code",
   "execution_count": 46,
   "metadata": {},
   "outputs": [
    {
     "name": "stdout",
     "output_type": "stream",
     "text": [
      "var 还未开放\n"
     ]
    }
   ],
   "source": [
    "sum_(-1,0,1,4,A='var')"
   ]
  },
  {
   "cell_type": "code",
   "execution_count": null,
   "metadata": {},
   "outputs": [],
   "source": [
    "'aHbK134'.__iter__"
   ]
  },
  {
   "cell_type": "code",
   "execution_count": 48,
   "metadata": {},
   "outputs": [
    {
     "name": "stdout",
     "output_type": "stream",
     "text": [
      "a\n",
      "s\n",
      "d\n",
      "k\n",
      "j\n",
      "f\n",
      "h\n"
     ]
    }
   ],
   "source": [
    "b = 'asdkjfh'\n",
    "for i in b :\n",
    "    print(i)"
   ]
  },
  {
   "cell_type": "code",
   "execution_count": null,
   "metadata": {},
   "outputs": [],
   "source": [
    "2,5\n",
    "2 + 22 + 222 + 2222 + 22222"
   ]
  },
  {
   "cell_type": "markdown",
   "metadata": {},
   "source": [
    "## 变量的作用域\n",
    "- 局部变量 local\n",
    "- 全局变量 global\n",
    "- globals 函数返回一个全局变量的字典，包括所有导入的变量\n",
    "- locals() 函数会以字典类型返回当前位置的全部局部变量。"
   ]
  },
  {
   "cell_type": "code",
   "execution_count": 54,
   "metadata": {},
   "outputs": [
    {
     "name": "stdout",
     "output_type": "stream",
     "text": [
      "1100\n"
     ]
    }
   ],
   "source": [
    "a = 1000\n",
    "b = 10\n",
    "def Y():\n",
    "    global a,b\n",
    "    a += 100\n",
    "    print(a)\n",
    "Y()"
   ]
  },
  {
   "cell_type": "code",
   "execution_count": 55,
   "metadata": {},
   "outputs": [
    {
     "name": "stdout",
     "output_type": "stream",
     "text": [
      "1200\n",
      "1100\n"
     ]
    }
   ],
   "source": [
    "def YY(a1):\n",
    "    a1 += 100\n",
    "    print(a1)\n",
    "YY(a)\n",
    "print(a)"
   ]
  },
  {
   "cell_type": "markdown",
   "metadata": {},
   "source": [
    "## 注意：\n",
    "- global ：在进行赋值操作的时候需要声明\n",
    "- 官方解释：This is because when you make an assignment to a variable in a scope, that variable becomes local to that scope and shadows any similarly named variable in the outer scope.\n",
    "- ![](../Photo/73.png)"
   ]
  },
  {
   "cell_type": "markdown",
   "metadata": {},
   "source": [
    "# Homework\n",
    "- 1\n",
    "![](../Photo/74.png)"
   ]
  },
  {
   "cell_type": "code",
   "execution_count": 41,
   "metadata": {},
   "outputs": [
    {
     "name": "stdout",
     "output_type": "stream",
     "text": [
      "     1      5     12     22     35     51     70     92    117    145 \n",
      "   176    210    247    287    330    376    425    477    532    590 \n",
      "   651    715    782    852    925   1001   1080   1162   1247   1335 \n",
      "  1426   1520   1617   1717   1820   1926   2035   2147   2262   2380 \n",
      "  2501   2625   2752   2882   3015   3151   3290   3432   3577   3725 \n",
      "  3876   4030   4187   4347   4510   4676   4845   5017   5192   5370 \n",
      "  5551   5735   5922   6112   6305   6501   6700   6902   7107   7315 \n",
      "  7526   7740   7957   8177   8400   8626   8855   9087   9322   9560 \n",
      "  9801  10045  10292  10542  10795  11051  11310  11572  11837  12105 \n",
      " 12376  12650  12927  13207  13490  13776  14065  14357  14652  14950 \n"
     ]
    }
   ],
   "source": [
    "def getPentalNumber(n):\n",
    "    count=0\n",
    "    for i in range(1,n+1):\n",
    "        temp=int(i*(3*i-1)/2)\n",
    "        print('%6.f'%temp,end=' ')\n",
    "        count=count+1\n",
    "        if count%10==0:\n",
    "            print()\n",
    "getPentalNumber(100)\n",
    "        "
   ]
  },
  {
   "cell_type": "markdown",
   "metadata": {},
   "source": [
    "- 2 \n",
    "![](../Photo/75.png)"
   ]
  },
  {
   "cell_type": "code",
   "execution_count": 61,
   "metadata": {},
   "outputs": [
    {
     "name": "stdout",
     "output_type": "stream",
     "text": [
      "9(2+3+4)\n"
     ]
    }
   ],
   "source": [
    "def aumDigits(n):\n",
    "    bai=n//100\n",
    "    shi=n//10%10\n",
    "    ge=n%10\n",
    "    #print(bai,shi,ge)\n",
    "    sum=bai+shi+ge\n",
    "    print('%d(%d+%d+%d)'%(sum,bai,shi,ge))\n",
    "aumDigits(234)"
   ]
  },
  {
   "cell_type": "markdown",
   "metadata": {},
   "source": [
    "- 3\n",
    "![](../Photo/76.png)"
   ]
  },
  {
   "cell_type": "code",
   "execution_count": 33,
   "metadata": {},
   "outputs": [
    {
     "name": "stdout",
     "output_type": "stream",
     "text": [
      "Enter three numbers: 12.4,15,31\n",
      "The sorted number are  [12.4, 15.0, 31.0]\n"
     ]
    }
   ],
   "source": [
    "def displaySortedNumbers(num1,num2,num3):\n",
    "    num1,num2,num3=map(float,input('Enter three numbers: ').split(','))\n",
    "    x=[num1,num2,num3]\n",
    "    x.sort()\n",
    "    print('The sorted number are ',x)\n",
    "displaySortedNumbers(3,2.4,5)"
   ]
  },
  {
   "cell_type": "markdown",
   "metadata": {},
   "source": [
    "- 4\n",
    "![](../Photo/77.png)"
   ]
  },
  {
   "cell_type": "markdown",
   "metadata": {},
   "source": [
    "- 5\n",
    "![](../Photo/78.png)"
   ]
  },
  {
   "cell_type": "code",
   "execution_count": 51,
   "metadata": {},
   "outputs": [
    {
     "name": "stdout",
     "output_type": "stream",
     "text": [
      "1 2 3 4 5 6 7 8 9 : \n",
      "; < = > ? @ A B C D \n",
      "E F G H I J K L M N \n",
      "O P Q R S T U V W X \n",
      "Y Z "
     ]
    }
   ],
   "source": [
    "def printChars(ch1,ch2,numberPerLine):\n",
    "    count=0\n",
    "    for i in range(49,91):\n",
    "        print(chr(i),end=' ')\n",
    "        count=count+1\n",
    "        if count%10==0:\n",
    "            print()\n",
    "printChars(49,1,1)\n",
    "    "
   ]
  },
  {
   "cell_type": "markdown",
   "metadata": {},
   "source": [
    "- 6\n",
    "![](../Photo/79.png)"
   ]
  },
  {
   "cell_type": "code",
   "execution_count": 1,
   "metadata": {},
   "outputs": [
    {
     "name": "stdout",
     "output_type": "stream",
     "text": [
      "2010年的天数为365天！\n",
      "2011年的天数为365天！\n",
      "2012年的天数为366天！\n",
      "2013年的天数为365天！\n",
      "2014年的天数为365天！\n",
      "2015年的天数为365天！\n",
      "2016年的天数为366天！\n",
      "2017年的天数为365天！\n",
      "2018年的天数为365天！\n",
      "2019年的天数为365天！\n",
      "2020年的天数为366天！\n"
     ]
    }
   ],
   "source": [
    "def numberOfDaysInYear(year):\n",
    "    for i in range(2010,2021):\n",
    "        if (i%4==0 and i%100!=0) or i %400==0:\n",
    "            print('%d年的天数为366天！'%i)\n",
    "        else:\n",
    "            print('%d年的天数为365天！'%i)\n",
    "numberOfDaysInYear(2010)"
   ]
  },
  {
   "cell_type": "markdown",
   "metadata": {},
   "source": [
    "- 7\n",
    "![](../Photo/80.png)"
   ]
  },
  {
   "cell_type": "markdown",
   "metadata": {},
   "source": [
    "- 8\n",
    "![](../Photo/81.png)"
   ]
  },
  {
   "cell_type": "code",
   "execution_count": 81,
   "metadata": {},
   "outputs": [
    {
     "name": "stdout",
     "output_type": "stream",
     "text": [
      "0    0\n",
      "1    1\n",
      "2    3\n",
      "3    7\n",
      "4    15\n",
      "5    31\n",
      "6    63\n",
      "7    127\n",
      "8    255\n",
      "9    511\n",
      "10    1023\n",
      "11    2047\n",
      "12    4095\n",
      "13    8191\n",
      "14    16383\n",
      "15    32767\n",
      "16    65535\n",
      "17    131071\n",
      "18    262143\n",
      "19    524287\n",
      "20    1048575\n",
      "21    2097151\n",
      "22    4194303\n",
      "23    8388607\n",
      "24    16777215\n",
      "25    33554431\n",
      "26    67108863\n",
      "27    134217727\n",
      "28    268435455\n",
      "29    536870911\n",
      "30    1073741823\n",
      "31    2147483647\n"
     ]
    }
   ],
   "source": [
    "for p in range(32):\n",
    "    n=2**p-1\n",
    "    print('%d    %d'%(p,n))"
   ]
  },
  {
   "cell_type": "markdown",
   "metadata": {},
   "source": [
    "- 9\n",
    "![](../Photo/82.png)\n",
    "![](../Photo/83.png)"
   ]
  },
  {
   "cell_type": "code",
   "execution_count": 30,
   "metadata": {},
   "outputs": [
    {
     "name": "stdout",
     "output_type": "stream",
     "text": [
      "本地时间为： Sun Aug  4 14:51:42 2019\n"
     ]
    }
   ],
   "source": [
    "import time\n",
    "localtime=time.asctime(time.localtime(time.time()))\n",
    "print('本地时间为：',localtime)"
   ]
  },
  {
   "cell_type": "markdown",
   "metadata": {},
   "source": [
    "- 10\n",
    "![](../Photo/84.png)"
   ]
  },
  {
   "cell_type": "code",
   "execution_count": 53,
   "metadata": {},
   "outputs": [
    {
     "name": "stdout",
     "output_type": "stream",
     "text": [
      "You rolled 6 + 4 = 10\n",
      "point is 10\n",
      "You rolled 6 + 4 = 10\n",
      "You win\n"
     ]
    }
   ],
   "source": [
    "import random\n",
    "x=random.randint(1,6)\n",
    "y=random.randint(1,6)\n",
    "sum=x+y\n",
    "if sum in (2,3,12):\n",
    "    print('You rolled %d + %d = %d'%(x,y,sum))\n",
    "    print('You lose!')\n",
    "if sum in (7,11):\n",
    "    print('You rolled %d + %d = %d'%(x,y,sum))\n",
    "    print('You win')\n",
    "if sum in (4,5,6,8,9,10):\n",
    "    print('You rolled %d + %d = %d'%(x,y,sum))\n",
    "    print('point is %d'%sum)\n",
    "    sum_2=x+y\n",
    "    if sum_2 == 7:\n",
    "        print('You rolled %d + %d = 7'%(x,y))\n",
    "        print('You lose!')\n",
    "    if sum_2==sum:\n",
    "        print('You rolled %d + %d = %d'%(x,y,sum))\n",
    "        print('You win')"
   ]
  },
  {
   "cell_type": "code",
   "execution_count": null,
   "metadata": {},
   "outputs": [],
   "source": [
    "- 11 \n",
    "### 去网上寻找如何用Python代码发送邮件"
   ]
  },
  {
   "cell_type": "code",
   "execution_count": 15,
   "metadata": {},
   "outputs": [
    {
     "name": "stdout",
     "output_type": "stream",
     "text": [
      "success\n"
     ]
    }
   ],
   "source": [
    "import smtplib\n",
    "from email.mime.text import MIMEText\n",
    "\n",
    "mailserver = \"smtp.163.com\"  #邮箱服务器地址\n",
    "username_send = 'changqiuy@163.com'  #邮箱用户名\n",
    "password = 'abc123'   #邮箱密码：需要使用授权码\n",
    "username_recv = '1543539005@qq.com'  #收件人，多个收件人用逗号隔开\n",
    "mail = MIMEText('123')#邮件内容\n",
    "mail['Subject'] = '有点难！'#邮件主题\n",
    "mail['From'] = username_send  #发件人\n",
    "mail['To'] = username_recv  #收件人；[]里的三个是固定写法，别问为什么，我只是代码的搬运工\n",
    "smtp = smtplib.SMTP(mailserver,port=25) # 连接邮箱服务器，smtp的端口号是25\n",
    "# smtp=smtplib.SMTP_SSL('smtp.qq.com',port=465) #QQ邮箱的服务器和端口号\n",
    "smtp.login(username_send,password)  #登录邮箱\n",
    "smtp.sendmail(username_send,username_recv,mail.as_string())# 参数分别是发送者，接收者，第三个是把上面的发送邮件的内容变成字符串\n",
    "smtp.quit() # 发送完毕后退出smtp\n",
    "print ('success')"
   ]
  },
  {
   "cell_type": "code",
   "execution_count": null,
   "metadata": {},
   "outputs": [],
   "source": []
  }
 ],
 "metadata": {
  "kernelspec": {
   "display_name": "Python 3",
   "language": "python",
   "name": "python3"
  }
 },
 "nbformat": 4,
 "nbformat_minor": 2
}
