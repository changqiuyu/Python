{
 "cells": [
  {
   "cell_type": "markdown",
   "metadata": {},
   "source": [
    "# 选择\n",
    "## 布尔类型、数值和表达式\n",
    "![](../Photo/33.png)\n",
    "- 注意：比较运算符的相等是两个等号，一个等到代表赋值\n",
    "- 在Python中可以用整型0来代表False，其他数字来代表True\n",
    "- 后面还会讲到 is 在判断语句中的用发"
   ]
  },
  {
   "cell_type": "code",
   "execution_count": 2,
   "metadata": {},
   "outputs": [
    {
     "name": "stdout",
     "output_type": "stream",
     "text": [
      "140718078661440 140718078661440\n"
     ]
    },
    {
     "data": {
      "text/plain": [
       "False"
      ]
     },
     "execution_count": 2,
     "metadata": {},
     "output_type": "execute_result"
    }
   ],
   "source": [
    "a = id(1)\n",
    "b = id(1)\n",
    "\n",
    "print(a,b)\n",
    "# 因为a和b并不是同一个对象\n",
    "a is b"
   ]
  },
  {
   "cell_type": "code",
   "execution_count": 3,
   "metadata": {},
   "outputs": [
    {
     "data": {
      "text/plain": [
       "True"
      ]
     },
     "execution_count": 3,
     "metadata": {},
     "output_type": "execute_result"
    }
   ],
   "source": [
    "a = id(1)\n",
    "b = a\n",
    "a is b"
   ]
  },
  {
   "cell_type": "code",
   "execution_count": 4,
   "metadata": {},
   "outputs": [],
   "source": [
    "a = True\n",
    "b = False"
   ]
  },
  {
   "cell_type": "code",
   "execution_count": 5,
   "metadata": {},
   "outputs": [
    {
     "data": {
      "text/plain": [
       "140718078138704"
      ]
     },
     "execution_count": 5,
     "metadata": {},
     "output_type": "execute_result"
    }
   ],
   "source": [
    "id(True)"
   ]
  },
  {
   "cell_type": "code",
   "execution_count": null,
   "metadata": {},
   "outputs": [],
   "source": []
  },
  {
   "cell_type": "code",
   "execution_count": 6,
   "metadata": {},
   "outputs": [
    {
     "data": {
      "text/plain": [
       "False"
      ]
     },
     "execution_count": 6,
     "metadata": {},
     "output_type": "execute_result"
    }
   ],
   "source": [
    "a == b"
   ]
  },
  {
   "cell_type": "code",
   "execution_count": 7,
   "metadata": {},
   "outputs": [
    {
     "data": {
      "text/plain": [
       "False"
      ]
     },
     "execution_count": 7,
     "metadata": {},
     "output_type": "execute_result"
    }
   ],
   "source": [
    "a is b"
   ]
  },
  {
   "cell_type": "markdown",
   "metadata": {},
   "source": [
    "## 字符串的比较使用ASCII值"
   ]
  },
  {
   "cell_type": "code",
   "execution_count": 8,
   "metadata": {},
   "outputs": [
    {
     "data": {
      "text/plain": [
       "False"
      ]
     },
     "execution_count": 8,
     "metadata": {},
     "output_type": "execute_result"
    }
   ],
   "source": [
    "a = \"jokar\"\n",
    "b = \"jokar\"\n",
    "a > b"
   ]
  },
  {
   "cell_type": "markdown",
   "metadata": {},
   "source": [
    "## Markdown \n",
    "- https://github.com/younghz/Markdown"
   ]
  },
  {
   "cell_type": "markdown",
   "metadata": {},
   "source": [
    "肯定会给发数据划分啊"
   ]
  },
  {
   "cell_type": "markdown",
   "metadata": {},
   "source": [
    "$\\sum_{j=1}^{N}x_{j}$"
   ]
  },
  {
   "cell_type": "code",
   "execution_count": null,
   "metadata": {},
   "outputs": [],
   "source": []
  },
  {
   "cell_type": "markdown",
   "metadata": {},
   "source": [
    "## EP:\n",
    "- <img src=\"../Photo/34.png\"></img>\n",
    "- 输入一个数字，判断其实奇数还是偶数"
   ]
  },
  {
   "cell_type": "markdown",
   "metadata": {},
   "source": [
    "## 产生随机数字\n",
    "- 函数random.randint(a,b) 可以用来产生一个a和b之间且包括a和b的随机整数"
   ]
  },
  {
   "cell_type": "code",
   "execution_count": 9,
   "metadata": {},
   "outputs": [],
   "source": [
    "import random"
   ]
  },
  {
   "cell_type": "code",
   "execution_count": 10,
   "metadata": {},
   "outputs": [
    {
     "data": {
      "text/plain": [
       "0"
      ]
     },
     "execution_count": 10,
     "metadata": {},
     "output_type": "execute_result"
    }
   ],
   "source": [
    "random.randint(0,1)"
   ]
  },
  {
   "cell_type": "code",
   "execution_count": 11,
   "metadata": {},
   "outputs": [
    {
     "ename": "SyntaxError",
     "evalue": "invalid syntax (<ipython-input-11-878e1118d8f8>, line 2)",
     "output_type": "error",
     "traceback": [
      "\u001b[1;36m  File \u001b[1;32m\"<ipython-input-11-878e1118d8f8>\"\u001b[1;36m, line \u001b[1;32m2\u001b[0m\n\u001b[1;33m    do someething\u001b[0m\n\u001b[1;37m                ^\u001b[0m\n\u001b[1;31mSyntaxError\u001b[0m\u001b[1;31m:\u001b[0m invalid syntax\n"
     ]
    }
   ],
   "source": [
    "if condition:\n",
    "    do someething\n",
    "else:\n",
    "    other"
   ]
  },
  {
   "cell_type": "code",
   "execution_count": null,
   "metadata": {},
   "outputs": [],
   "source": [
    "for iter_ in xxx:\n",
    "    do something\n"
   ]
  },
  {
   "cell_type": "code",
   "execution_count": null,
   "metadata": {},
   "outputs": [],
   "source": [
    "age = 10\n",
    "Joker = eval(input('Name'))\n",
    "print(Joker)"
   ]
  },
  {
   "cell_type": "markdown",
   "metadata": {},
   "source": [
    "产生一个随机数，你去输入，如果你输入的数大于随机数，那么就告诉你太大了，反之，太小了，\n",
    "然后你一直输入，知道它满意为止"
   ]
  },
  {
   "cell_type": "code",
   "execution_count": null,
   "metadata": {},
   "outputs": [],
   "source": [
    "number =random.randint(0,5)"
   ]
  },
  {
   "cell_type": "code",
   "execution_count": null,
   "metadata": {},
   "outputs": [],
   "source": [
    "for i in range(5):\n",
    "    input_  = eval(input('>>'))\n",
    "    if input_ > number:\n",
    "        print('太大啦')\n",
    "    if input_ < number:\n",
    "        print('太小啦')\n",
    "    if number == input_:\n",
    "        print('正好')\n",
    "        break"
   ]
  },
  {
   "cell_type": "code",
   "execution_count": null,
   "metadata": {},
   "outputs": [],
   "source": [
    "for i in range(5):\n",
    "    print(i)"
   ]
  },
  {
   "cell_type": "markdown",
   "metadata": {},
   "source": [
    "##  其他random方法\n",
    "- random.random 返回0.0到1.0之间前闭后开区间的随机浮点\n",
    "- random.randrange(a,b) 前闭后开"
   ]
  },
  {
   "cell_type": "code",
   "execution_count": null,
   "metadata": {},
   "outputs": [],
   "source": [
    "random.random()"
   ]
  },
  {
   "cell_type": "code",
   "execution_count": null,
   "metadata": {},
   "outputs": [],
   "source": [
    "import matplotlib.pyplot as plt"
   ]
  },
  {
   "cell_type": "code",
   "execution_count": null,
   "metadata": {},
   "outputs": [],
   "source": [
    "image=plt.imread('/Users/huwang/Downloads/cat.jpeg')\n",
    "print(image*random.random())\n",
    "plt.imshow(image)"
   ]
  },
  {
   "cell_type": "markdown",
   "metadata": {},
   "source": [
    "## EP：\n",
    "- 产生两个随机整数number1和number2，然后显示给用户，使用户输入数字的和，并判定其是否正确\n",
    "- 进阶:写一个随机序号点名程序"
   ]
  },
  {
   "cell_type": "code",
   "execution_count": null,
   "metadata": {},
   "outputs": [],
   "source": [
    "number_1 = random.randrange(0,10)\n",
    "number_2 = random.randrange(0,10)\n",
    "\n",
    "while 1:\n",
    "    sum_ = eval(input('>>'))\n",
    "    if sum_ == (number_1 + number_2):\n",
    "        print('Congratulations! Correct~')\n",
    "    else:\n",
    "        print('Sorry~SB.')"
   ]
  },
  {
   "cell_type": "code",
   "execution_count": null,
   "metadata": {},
   "outputs": [],
   "source": []
  },
  {
   "cell_type": "markdown",
   "metadata": {},
   "source": [
    "## if语句\n",
    "- 如果条件正确就执行一个单向if语句，亦即当条件为真的时候才执行if内部的语句\n",
    "- Python有很多选择语句:\n",
    "> - 单向if \n",
    "  - 双向if-else\n",
    "  - 嵌套if\n",
    "  - 多向if-elif-else\n",
    "  \n",
    "- 注意：当语句含有子语句的时候，那么一定至少要有一个缩进，也就是说如果有儿子存在，那么一定要缩进\n",
    "- 切记不可tab键和space混用，单用tab 或者 space\n",
    "- 当你输出的结果是无论if是否为真时都需要显示时，语句应该与if对齐"
   ]
  },
  {
   "cell_type": "code",
   "execution_count": null,
   "metadata": {},
   "outputs": [],
   "source": [
    "input_  = eval(input('>>'))\n",
    "if input_ > number:\n",
    "    print('太大啦')\n",
    "if input_ < number:\n",
    "    print('太小啦')\n",
    "if number == input_:\n",
    "    print('正好')\n",
    "print('不要灰心')"
   ]
  },
  {
   "cell_type": "markdown",
   "metadata": {},
   "source": [
    "李文浩相亲测试树\n",
    "\n",
    "      年龄\n",
    "   老      年轻   \n",
    "拜拜          \n",
    "                 帅\n",
    "               否    是\n",
    "           考虑一下     老婆\n",
    "                    没有     有\n",
    "                 马上结婚     回家的诱惑\n",
    "                 \n",
    "代码写不出来的立马分手,从此社会上有多出一个渣男/渣女."
   ]
  },
  {
   "cell_type": "code",
   "execution_count": null,
   "metadata": {},
   "outputs": [],
   "source": [
    "age = input('年轻嘛[y/n]')\n",
    "if age == 'y':\n",
    "    handsome = input('帅否[y/n]')\n",
    "    if handsome == 'y':\n",
    "        wife = input('有没有老婆[y/n]')\n",
    "        if wife == 'y':\n",
    "            print('回家的诱惑')\n",
    "        else:\n",
    "            print('立马结婚')\n",
    "    else:\n",
    "        print('考虑一下')\n",
    "else:\n",
    "    print('拜拜~')"
   ]
  },
  {
   "cell_type": "markdown",
   "metadata": {},
   "source": [
    "## EP：\n",
    "- 用户输入一个数字，判断其实奇数还是偶数\n",
    "- 进阶：可以查看下4.5实例研究猜生日"
   ]
  },
  {
   "cell_type": "markdown",
   "metadata": {},
   "source": [
    "## 双向if-else 语句\n",
    "- 如果条件为真，那么走if内部语句，否则走else内部语句"
   ]
  },
  {
   "cell_type": "markdown",
   "metadata": {},
   "source": [
    "## EP：\n",
    "- 产生两个随机整数number1和number2，然后显示给用户，使用户输入数字，并判定其是否正确,如果正确打印“you‘re correct”，否则打印正确错误"
   ]
  },
  {
   "cell_type": "markdown",
   "metadata": {},
   "source": [
    "## 嵌套if 和多向if-elif-else\n",
    "![](../Photo/35.png)"
   ]
  },
  {
   "cell_type": "code",
   "execution_count": null,
   "metadata": {},
   "outputs": [],
   "source": [
    "if score >= 80:\n",
    "    gread = 'B'\n",
    "elif score>=90:\n",
    "    gread = 'A'"
   ]
  },
  {
   "cell_type": "markdown",
   "metadata": {},
   "source": [
    "## EP：\n",
    "- 提示用户输入一个年份，然后显示表示这一年的动物\n",
    "![](../Photo/36.png)\n",
    "- 计算身体质量指数的程序\n",
    "- BMI = 以千克为单位的体重除以以米为单位的身高的平方\n",
    "![](../Photo/37.png)"
   ]
  },
  {
   "cell_type": "code",
   "execution_count": null,
   "metadata": {},
   "outputs": [],
   "source": [
    "tizhong  = eval(input('体重'))\n",
    "shengao = eval(input('身高'))\n",
    "BMI = tizhong / shengao ** 2\n",
    "if BMI<18.5 :\n",
    "    print('超清')\n",
    "elif 18.5<=BMI<25 :\n",
    "    print('标准')\n",
    "elif 25<=BMI<30 :\n",
    "    print('超重')\n",
    "else:\n",
    "    print('超级无敌胖')"
   ]
  },
  {
   "cell_type": "markdown",
   "metadata": {},
   "source": [
    "## 逻辑运算符\n",
    "![](../Photo/38.png)"
   ]
  },
  {
   "cell_type": "markdown",
   "metadata": {},
   "source": [
    "![](../Photo/39.png)\n",
    "![](../Photo/40.png)"
   ]
  },
  {
   "cell_type": "markdown",
   "metadata": {},
   "source": [
    "## EP：\n",
    "- 判定闰年：一个年份如果能被4整除但不能被100整除，或者能被400整除，那么这个年份就是闰年\n",
    "- 提示用户输入一个年份，并返回是否是闰年\n",
    "- 提示用户输入一个数字，判断其是否为水仙花数"
   ]
  },
  {
   "cell_type": "markdown",
   "metadata": {},
   "source": [
    "## 实例研究：彩票\n",
    "![](../Photo/41.png)"
   ]
  },
  {
   "cell_type": "code",
   "execution_count": null,
   "metadata": {},
   "outputs": [],
   "source": [
    "import random"
   ]
  },
  {
   "cell_type": "code",
   "execution_count": null,
   "metadata": {
    "scrolled": true
   },
   "outputs": [],
   "source": [
    "number = random.randint(10,99)\n",
    "print(number)\n",
    "N = input('>>')\n",
    "number_shi = number // 10\n",
    "number_ge = number % 10\n",
    "\n",
    "if N[0] == '0':\n",
    "    N_shi = 0\n",
    "else:\n",
    "    N_shi = int(N) // 10\n",
    "    N_ge = int(N) % 10\n",
    "\n",
    "if number == int(N):\n",
    "    print('10000')\n",
    "# elif (number_shi == N_shi or number_shi==N_ge) and (number_ge == N_shi or number_ge==N_ge):\n",
    "elif number_shi + number_ge == N_shi + N_ge:\n",
    "    print('3000')\n",
    "elif (number_ge ==N_ge or number_ge == N_shi) or (number_shi == N_ge or number_shi == N_shi):\n",
    "    print('1000')"
   ]
  },
  {
   "cell_type": "code",
   "execution_count": null,
   "metadata": {},
   "outputs": [],
   "source": [
    "a = \"05\"\n",
    "a[0]"
   ]
  },
  {
   "cell_type": "code",
   "execution_count": null,
   "metadata": {},
   "outputs": [],
   "source": [
    "05 // 10"
   ]
  },
  {
   "cell_type": "code",
   "execution_count": null,
   "metadata": {},
   "outputs": [],
   "source": [
    "Number = eval(input('>>'))\n",
    "\n",
    "bai = Number // 100\n",
    "shi = Number // 10 % 10\n",
    "ge = Number % 10\n",
    "\n",
    "if bai**3 + shi **3 + ge **3 == Number:\n",
    "    print('水仙花')\n",
    "else:\n",
    "    print('不是水仙花')"
   ]
  },
  {
   "cell_type": "code",
   "execution_count": null,
   "metadata": {},
   "outputs": [],
   "source": [
    "223 // 10"
   ]
  },
  {
   "cell_type": "markdown",
   "metadata": {},
   "source": [
    "# Homework\n",
    "- 1\n",
    "![](../Photo/42.png)"
   ]
  },
  {
   "cell_type": "code",
   "execution_count": 1,
   "metadata": {},
   "outputs": [
    {
     "name": "stdout",
     "output_type": "stream",
     "text": [
      "Enter a,b,c:1,2.0,1\n",
      "The root is -1.0\n"
     ]
    }
   ],
   "source": [
    "import math\n",
    "a,b,c=map(float,input('Enter a,b,c:').split(','))\n",
    "if b*b-4*a*c>0:\n",
    "    r1=(-b+math.sqrt(b*b-4*a*c))/2*a\n",
    "    r2=(-b-math.sqrt(b*b-4*a*c))/2*a\n",
    "    print('The roots are {} and {}'.format(r1,r2))\n",
    "if b*b-4*a*c==0:\n",
    "    r1=r2=(-b-math.sqrt(b*b-4*a*c))/2*a\n",
    "    print('The root is {}'.format(r1))\n",
    "if b*b-4*a*c<0:\n",
    "    print('The equation has no real roots')\n"
   ]
  },
  {
   "cell_type": "markdown",
   "metadata": {},
   "source": [
    "- 2\n",
    "![](../Photo/43.png)"
   ]
  },
  {
   "cell_type": "code",
   "execution_count": 46,
   "metadata": {},
   "outputs": [
    {
     "name": "stdout",
     "output_type": "stream",
     "text": [
      "37 94\n",
      "请输入这两个整数的和：120\n",
      "结果为假\n"
     ]
    }
   ],
   "source": [
    "import random\n",
    "x=random.randint(1,100)\n",
    "y=random.randint(1,100)\n",
    "print(x,y)\n",
    "sum=x+y\n",
    "m=int(input('请输入这两个整数的和：'))\n",
    "if m==sum:\n",
    "    print('结果为真')\n",
    "else:\n",
    "    print('结果为假')"
   ]
  },
  {
   "cell_type": "markdown",
   "metadata": {},
   "source": [
    "- 3\n",
    "![](../Photo/44.png)"
   ]
  },
  {
   "cell_type": "code",
   "execution_count": 2,
   "metadata": {},
   "outputs": [
    {
     "name": "stdout",
     "output_type": "stream",
     "text": [
      "Enter today’s day: 1\n",
      "Enter the number of days elapsed since today: 3\n",
      "Today is Monday and the future day is Thursday\n"
     ]
    }
   ],
   "source": [
    "a=int(input('Enter today’s day: '))\n",
    "b=int(input('Enter the number of days elapsed since today: '))\n",
    "week=['Sunday','Monday','Tuesday','Wednesday','Thursday','Friday','Saturday']\n",
    "\n",
    "wl=(a+b)%7\n",
    "\n",
    "print(\"Today is %s and the future day is %s\"%(week[a],week[wl]))\n",
    "\n",
    "\n",
    "\n",
    "\n",
    "# day={'0':'Sunday','1':'Monday','2':'Tuesday','3':'Wednesday','4':'Thursday','5':'Firday','6':'Saturday'}\n",
    "# x=input('Enter todays day:')\n",
    "# y=input('Enter the number of days elapsed since today:')\n",
    "# w=x+y\n",
    "# z=0\n",
    "# z=w%7\n",
    "# if z in day.keys():\n",
    "#     print(day[z])\n",
    "\n",
    "            "
   ]
  },
  {
   "cell_type": "markdown",
   "metadata": {},
   "source": [
    "- 4\n",
    "![](../Photo/45.png)"
   ]
  },
  {
   "cell_type": "code",
   "execution_count": 3,
   "metadata": {},
   "outputs": [
    {
     "name": "stdout",
     "output_type": "stream",
     "text": [
      "请输入三个整数：102,43,89\n",
      "[43, 89, 102]\n"
     ]
    }
   ],
   "source": [
    "a,b,c=map(int,input('请输入三个整数：').split(','))\n",
    "x=[a,b,c]\n",
    "x.sort()\n",
    "print(x)"
   ]
  },
  {
   "cell_type": "markdown",
   "metadata": {},
   "source": [
    "- 5\n",
    "![](../Photo/46.png)"
   ]
  },
  {
   "cell_type": "code",
   "execution_count": 4,
   "metadata": {},
   "outputs": [
    {
     "name": "stdout",
     "output_type": "stream",
     "text": [
      "Enter weight and price for package 1:50,24.59\n",
      "Enter weight and price for package 2:25,11.99\n",
      "Package 2 has the better price.\n"
     ]
    }
   ],
   "source": [
    "w1,p1=map(float,input('Enter weight and price for package 1:').split(','))\n",
    "w2,p2=map(float,input('Enter weight and price for package 2:').split(','))\n",
    "x=p1/w1\n",
    "y=p2/w2\n",
    "if x>y:\n",
    "    print('Package 2 has the better price.')\n",
    "else:\n",
    "    print('Package 1 has the better price.')"
   ]
  },
  {
   "cell_type": "markdown",
   "metadata": {},
   "source": [
    "- 6\n",
    "![](../Photo/47.png)"
   ]
  },
  {
   "cell_type": "code",
   "execution_count": 61,
   "metadata": {},
   "outputs": [
    {
     "name": "stdout",
     "output_type": "stream",
     "text": [
      "请输入月和年：5,2016\n",
      "2016年5月份的天数为31天\n"
     ]
    }
   ],
   "source": [
    "m,y=map(int,input('请输入月和年：').split(','))\n",
    "if m in (1,3,5,7,8,10,12):\n",
    "    print('{}年{}月份的天数为31天'.format(y,m))\n",
    "elif m in (4,6,9,11):\n",
    "     print('{}年{}月份的天数为30天'.format(y,m))\n",
    "if m==2:\n",
    "    if y%400==0 or (y%4==0 and y%100!=0):\n",
    "        print('{}年2月份的天数为29天'.format(y))\n",
    "    else:\n",
    "        print('{}年2月份的天数为28天'.format(y))"
   ]
  },
  {
   "cell_type": "markdown",
   "metadata": {},
   "source": [
    "- 7\n",
    "![](../Photo/48.png)"
   ]
  },
  {
   "cell_type": "code",
   "execution_count": 6,
   "metadata": {},
   "outputs": [
    {
     "name": "stdout",
     "output_type": "stream",
     "text": [
      "请猜测是硬币的正面还是反面：正面\n",
      "反面\n",
      "很遗憾，猜错了！\n"
     ]
    }
   ],
   "source": [
    "import numpy as np\n",
    "n=input('请猜测是硬币的正面还是反面：')\n",
    "seq=np.random.choice(['正面','反面'])\n",
    "print(seq)\n",
    "if n==seq:\n",
    "    print('恭喜你，猜对了！')\n",
    "else:\n",
    "    print('很遗憾，猜错了！')\n"
   ]
  },
  {
   "cell_type": "markdown",
   "metadata": {},
   "source": [
    "- 8\n",
    "![](../Photo/49.png)"
   ]
  },
  {
   "cell_type": "code",
   "execution_count": 53,
   "metadata": {},
   "outputs": [
    {
     "name": "stdout",
     "output_type": "stream",
     "text": [
      "请选择scissor(0),rock(1),paper(2):1\n",
      "The computer is scissor（剪刀）.Your are rock（石头）.You won. \n"
     ]
    }
   ],
   "source": [
    "import random\n",
    "s=int(input('请选择scissor(0),rock(1),paper(2):'))\n",
    "seq=random.randint(0,2)\n",
    "if s==0 and seq==1:\n",
    "    print('The computer is rock（石头）.Your are scissor（剪刀）.You lost. ')\n",
    "if s==0 and seq==2:\n",
    "    print('The computer is paper（布）.Your are scissor（剪刀）.You won. ')\n",
    "if s==1 and seq==2:\n",
    "    print('The computer is paper（布）.Your are  rock（石头）.You lost. ')\n",
    "if s==1 and seq==0:\n",
    "    print('The computer is scissor（剪刀）.Your are rock（石头）.You won. ')\n",
    "if s==2 and seq==0:\n",
    "    print('The computer is scissor（剪刀）.Your are paper（布）.You lost. ')\n",
    "if s==2 and seq==1:\n",
    "    print('The computer is rock（石头）.Your are paper（布）.You won. ')\n",
    "if s==0 and seq==0:\n",
    "    print('The computer is scissor（剪刀）.Your are scissor（剪刀） too.It is a draw. ')\n",
    "if s==1 and seq==1:\n",
    "    print('The computer is rock（石头）.Your are rock（石头） too.It is a draw.  ')\n",
    "if s==2 and seq==2:\n",
    "    print('The computer is paper（布）.Your are paper（布） too.It is a draw.  ')\n",
    "\n"
   ]
  },
  {
   "cell_type": "markdown",
   "metadata": {},
   "source": [
    "- 9\n",
    "![](../Photo/50.png)"
   ]
  },
  {
   "cell_type": "code",
   "execution_count": 1,
   "metadata": {},
   "outputs": [
    {
     "name": "stdout",
     "output_type": "stream",
     "text": [
      "Enter year:(e.g.,2008):2012\n",
      "Enter month:1-12:5\n",
      "Enter the day of the month:1-31:12\n",
      "Day of the week is Saturday\n"
     ]
    }
   ],
   "source": [
    "y=int(input('Enter year:(e.g.,2008):'))\n",
    "m=int(input('Enter month:1-12:'))\n",
    "d=int(input('Enter the day of the month:1-31:'))\n",
    "a=['Saturday','Sunday','Monday','Tuesday','Wednesday','Thurday','Firday']\n",
    "if m==1:\n",
    "    m=13\n",
    "    y=y-1\n",
    "if m==2:\n",
    "    m=14\n",
    "    y=y-1\n",
    "h=int(d + ((26 * (m + 1) ) // 10) + (y % 100) + ((y % 100) / 4) + ((y // 100) / 4) + 5 * y // 100) % 7\n",
    "o=a[h]\n",
    "print('Day of the week is %s'%o)\n"
   ]
  },
  {
   "cell_type": "markdown",
   "metadata": {},
   "source": [
    "- 10\n",
    "![](../Photo/51.png)"
   ]
  },
  {
   "cell_type": "code",
   "execution_count": 45,
   "metadata": {},
   "outputs": [
    {
     "name": "stdout",
     "output_type": "stream",
     "text": [
      "The card you picked is the 8 of 黑桃\n"
     ]
    }
   ],
   "source": [
    "import numpy as np\n",
    "seq1=np.random.choice(['Ace',2,3,4,5,6,7,8,9,10,'Jack','Queen','King'])\n",
    "seq2=np.random.choice(['梅花','红桃','方块','黑桃'])\n",
    "print('The card you picked is the {} of {}'.format(seq1,seq2))"
   ]
  },
  {
   "cell_type": "markdown",
   "metadata": {},
   "source": [
    "- 11\n",
    "![](../Photo/52.png)"
   ]
  },
  {
   "cell_type": "code",
   "execution_count": 28,
   "metadata": {},
   "outputs": [
    {
     "name": "stdout",
     "output_type": "stream",
     "text": [
      "Enter a three-digit integer:121\n",
      "121 is a palindrome\n"
     ]
    }
   ],
   "source": [
    "n=int(input('Enter a three-digit integer:')) \n",
    "bai=int(n//100) \n",
    "ge=int(n%10) \n",
    "if bai==ge:\n",
    "    print('{} is a palindrome'.format(n)) \n",
    "else: \n",
    "    print('{} is not a palindrome'.format(n))"
   ]
  },
  {
   "cell_type": "markdown",
   "metadata": {},
   "source": [
    "- 12\n",
    "![](../Photo/53.png)"
   ]
  },
  {
   "cell_type": "code",
   "execution_count": 55,
   "metadata": {},
   "outputs": [
    {
     "name": "stdout",
     "output_type": "stream",
     "text": [
      "Enter three edges:1,1,1\n",
      "The perimeter is 3\n"
     ]
    }
   ],
   "source": [
    "a,b,c=map(int,input('Enter three edges:').split(','))\n",
    "if a+b>c and a+c>b and b+c>a:\n",
    "    perimeter=a+b+c\n",
    "    print('The perimeter is {}'.format(perimeter))\n",
    "else:\n",
    "    print('不能构成三角形！')"
   ]
  }
 ],
 "metadata": {
  "kernelspec": {
   "display_name": "Python 3",
   "language": "python",
   "name": "python3"
  },
  "language_info": {
   "codemirror_mode": {
    "name": "ipython",
    "version": 3
   },
   "file_extension": ".py",
   "mimetype": "text/x-python",
   "name": "python",
   "nbconvert_exporter": "python",
   "pygments_lexer": "ipython3",
   "version": "3.7.3"
  }
 },
 "nbformat": 4,
 "nbformat_minor": 2
}
